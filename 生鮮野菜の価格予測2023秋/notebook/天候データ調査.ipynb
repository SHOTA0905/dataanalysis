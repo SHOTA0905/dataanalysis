{
 "cells": [
  {
   "cell_type": "code",
   "execution_count": 2,
   "id": "aca052bb",
   "metadata": {},
   "outputs": [],
   "source": [
    "import numpy as np # linear algebra\n",
    "import pandas as pd # data processing, CSV file I/O (e.g. pd.read_csv)\n",
    "import datetime\n",
    "import sys\n",
    "\n",
    "import os\n",
    "\n",
    "import matplotlib.pyplot as plt \n",
    "import japanize_matplotlib\n",
    "import seaborn as sns"
   ]
  },
  {
   "cell_type": "code",
   "execution_count": 3,
   "id": "bb2e69d5",
   "metadata": {},
   "outputs": [],
   "source": [
    "train = pd.read_csv('../train.csv')\n",
    "test = pd.read_csv('../test.csv')\n",
    "weather = pd.read_csv('../weather.csv')\n",
    "alldata = pd.concat([train.copy(), test.copy()], axis = 0)"
   ]
  },
  {
   "cell_type": "code",
   "execution_count": 4,
   "id": "cb6de51e",
   "metadata": {},
   "outputs": [
    {
     "name": "stdout",
     "output_type": "stream",
     "text": [
      "69104 220\n"
     ]
    }
   ],
   "source": [
    "#データ件数\n",
    "trainSuv = alldata[:len(train)]\n",
    "testSuv = alldata[len(train):]\n",
    "print(len(trainSuv), len(testSuv))"
   ]
  },
  {
   "cell_type": "markdown",
   "id": "90b7a3c9",
   "metadata": {},
   "source": [
    "# weather確認"
   ]
  },
  {
   "cell_type": "code",
   "execution_count": 5,
   "id": "2d2462ab",
   "metadata": {},
   "outputs": [
    {
     "name": "stdout",
     "output_type": "stream",
     "text": [
      "<class 'pandas.core.frame.DataFrame'>\n",
      "RangeIndex: 218112 entries, 0 to 218111\n",
      "Data columns (total 10 columns):\n",
      " #   Column         Non-Null Count   Dtype  \n",
      "---  ------         --------------   -----  \n",
      " 0   date           218112 non-null  int64  \n",
      " 1   mean_temp      217745 non-null  float64\n",
      " 2   max_temp       217745 non-null  float64\n",
      " 3   max_temp_time  217745 non-null  object \n",
      " 4   min_temp       217744 non-null  float64\n",
      " 5   min_temp_time  217744 non-null  object \n",
      " 6   sum_rain       217732 non-null  float64\n",
      " 7   sun_time       217680 non-null  float64\n",
      " 8   mean_humid     217708 non-null  float64\n",
      " 9   area           218112 non-null  object \n",
      "dtypes: float64(6), int64(1), object(3)\n",
      "memory usage: 16.6+ MB\n"
     ]
    }
   ],
   "source": [
    "weather.info()"
   ]
  },
  {
   "cell_type": "code",
   "execution_count": 6,
   "id": "26dc1977",
   "metadata": {},
   "outputs": [
    {
     "name": "stdout",
     "output_type": "stream",
     "text": [
      "date\n",
      "null件数：0, ユニークデータ数：6811\n",
      "mean_temp\n",
      "null件数：367, ユニークデータ数：482\n",
      "max_temp\n",
      "null件数：367, ユニークデータ数：488\n",
      "max_temp_time\n",
      "null件数：367, ユニークデータ数：206818\n",
      "min_temp\n",
      "null件数：368, ユニークデータ数：523\n",
      "min_temp_time\n",
      "null件数：368, ユニークデータ数：191557\n",
      "sum_rain\n",
      "null件数：380, ユニークデータ数：439\n",
      "sun_time\n",
      "null件数：432, ユニークデータ数：148\n",
      "mean_humid\n",
      "null件数：404, ユニークデータ数：85\n",
      "area\n",
      "null件数：0, ユニークデータ数：32\n"
     ]
    }
   ],
   "source": [
    "for clm in weather.columns:\n",
    "    print(\n",
    "        '{}\\r\\nnull件数：{}, ユニークデータ数：{}'.format(\n",
    "            clm, \n",
    "            weather[clm].isnull().sum(), \n",
    "            len(weather[clm].unique())))"
   ]
  },
  {
   "cell_type": "code",
   "execution_count": 8,
   "id": "b45c684b",
   "metadata": {},
   "outputs": [],
   "source": [
    "def func(row):\n",
    "    return(int(str(row['date'])[:4]),int(str(row['date'])[4:6]),int(str(row['date'])[6:8]))\n",
    "\n",
    "weather[['year', 'month', 'day']] = weather.apply(func, axis=1, result_type=\"expand\")"
   ]
  },
  {
   "cell_type": "markdown",
   "id": "ece6258a",
   "metadata": {},
   "source": [
    "# 作業"
   ]
  },
  {
   "cell_type": "code",
   "execution_count": 16,
   "id": "33433a10",
   "metadata": {},
   "outputs": [],
   "source": [
    "df = weather.copy()\n",
    "\n",
    "def func(row):\n",
    "    if row['sum_rain'] == 0:\n",
    "        return 1\n",
    "    else:\n",
    "        return 0\n",
    "df['isNoRain'] = df.apply(func, axis=1)\n",
    "\n",
    "def func2(row):\n",
    "    if row['sun_time'] >= 6 :\n",
    "        return 1\n",
    "    else:\n",
    "        return 0\n",
    "df['isOver6TimeSunset'] = df.apply(func2, axis=1)\n",
    "\n",
    "def func3(row):\n",
    "    if row['sun_time'] >= 4 :\n",
    "        return 1\n",
    "    else:\n",
    "        return 0\n",
    "df['isOver4TimeSunset'] = df.apply(func3, axis=1)\n",
    "\n",
    "def func4(row):\n",
    "    if row['sun_time'] >= 2 :\n",
    "        return 1\n",
    "    else:\n",
    "        return 0\n",
    "df['isOver2TimeSunset'] = df.apply(func4, axis=1)"
   ]
  },
  {
   "cell_type": "code",
   "execution_count": 19,
   "id": "8f5cb2c2",
   "metadata": {},
   "outputs": [
    {
     "data": {
      "text/html": [
       "<div>\n",
       "<style scoped>\n",
       "    .dataframe tbody tr th:only-of-type {\n",
       "        vertical-align: middle;\n",
       "    }\n",
       "\n",
       "    .dataframe tbody tr th {\n",
       "        vertical-align: top;\n",
       "    }\n",
       "\n",
       "    .dataframe thead th {\n",
       "        text-align: right;\n",
       "    }\n",
       "</style>\n",
       "<table border=\"1\" class=\"dataframe\">\n",
       "  <thead>\n",
       "    <tr style=\"text-align: right;\">\n",
       "      <th></th>\n",
       "      <th></th>\n",
       "      <th></th>\n",
       "      <th>isNoRain</th>\n",
       "      <th>isOver6TimeSunset</th>\n",
       "      <th>isOver4TimeSunset</th>\n",
       "      <th>isOver2TimeSunset</th>\n",
       "    </tr>\n",
       "    <tr>\n",
       "      <th>area</th>\n",
       "      <th>year</th>\n",
       "      <th>month</th>\n",
       "      <th></th>\n",
       "      <th></th>\n",
       "      <th></th>\n",
       "      <th></th>\n",
       "    </tr>\n",
       "  </thead>\n",
       "  <tbody>\n",
       "    <tr>\n",
       "      <th rowspan=\"5\" valign=\"top\">仙台</th>\n",
       "      <th rowspan=\"2\" valign=\"top\">2004</th>\n",
       "      <th>11</th>\n",
       "      <td>21</td>\n",
       "      <td>10</td>\n",
       "      <td>15</td>\n",
       "      <td>15</td>\n",
       "    </tr>\n",
       "    <tr>\n",
       "      <th>12</th>\n",
       "      <td>26</td>\n",
       "      <td>11</td>\n",
       "      <td>17</td>\n",
       "      <td>24</td>\n",
       "    </tr>\n",
       "    <tr>\n",
       "      <th rowspan=\"3\" valign=\"top\">2005</th>\n",
       "      <th>1</th>\n",
       "      <td>22</td>\n",
       "      <td>9</td>\n",
       "      <td>14</td>\n",
       "      <td>24</td>\n",
       "    </tr>\n",
       "    <tr>\n",
       "      <th>2</th>\n",
       "      <td>17</td>\n",
       "      <td>10</td>\n",
       "      <td>14</td>\n",
       "      <td>21</td>\n",
       "    </tr>\n",
       "    <tr>\n",
       "      <th>3</th>\n",
       "      <td>19</td>\n",
       "      <td>17</td>\n",
       "      <td>20</td>\n",
       "      <td>24</td>\n",
       "    </tr>\n",
       "    <tr>\n",
       "      <th>...</th>\n",
       "      <th>...</th>\n",
       "      <th>...</th>\n",
       "      <td>...</td>\n",
       "      <td>...</td>\n",
       "      <td>...</td>\n",
       "      <td>...</td>\n",
       "    </tr>\n",
       "    <tr>\n",
       "      <th rowspan=\"5\" valign=\"top\">鹿児島</th>\n",
       "      <th rowspan=\"5\" valign=\"top\">2023</th>\n",
       "      <th>2</th>\n",
       "      <td>19</td>\n",
       "      <td>11</td>\n",
       "      <td>16</td>\n",
       "      <td>17</td>\n",
       "    </tr>\n",
       "    <tr>\n",
       "      <th>3</th>\n",
       "      <td>17</td>\n",
       "      <td>17</td>\n",
       "      <td>19</td>\n",
       "      <td>21</td>\n",
       "    </tr>\n",
       "    <tr>\n",
       "      <th>4</th>\n",
       "      <td>18</td>\n",
       "      <td>13</td>\n",
       "      <td>17</td>\n",
       "      <td>20</td>\n",
       "    </tr>\n",
       "    <tr>\n",
       "      <th>5</th>\n",
       "      <td>22</td>\n",
       "      <td>19</td>\n",
       "      <td>21</td>\n",
       "      <td>24</td>\n",
       "    </tr>\n",
       "    <tr>\n",
       "      <th>6</th>\n",
       "      <td>12</td>\n",
       "      <td>9</td>\n",
       "      <td>11</td>\n",
       "      <td>13</td>\n",
       "    </tr>\n",
       "  </tbody>\n",
       "</table>\n",
       "<p>7168 rows × 4 columns</p>\n",
       "</div>"
      ],
      "text/plain": [
       "                 isNoRain  isOver6TimeSunset  isOver4TimeSunset  \\\n",
       "area year month                                                   \n",
       "仙台   2004 11           21                 10                 15   \n",
       "          12           26                 11                 17   \n",
       "     2005 1            22                  9                 14   \n",
       "          2            17                 10                 14   \n",
       "          3            19                 17                 20   \n",
       "...                   ...                ...                ...   \n",
       "鹿児島  2023 2            19                 11                 16   \n",
       "          3            17                 17                 19   \n",
       "          4            18                 13                 17   \n",
       "          5            22                 19                 21   \n",
       "          6            12                  9                 11   \n",
       "\n",
       "                 isOver2TimeSunset  \n",
       "area year month                     \n",
       "仙台   2004 11                    15  \n",
       "          12                    24  \n",
       "     2005 1                     24  \n",
       "          2                     21  \n",
       "          3                     24  \n",
       "...                            ...  \n",
       "鹿児島  2023 2                     17  \n",
       "          3                     21  \n",
       "          4                     20  \n",
       "          5                     24  \n",
       "          6                     13  \n",
       "\n",
       "[7168 rows x 4 columns]"
      ]
     },
     "execution_count": 19,
     "metadata": {},
     "output_type": "execute_result"
    }
   ],
   "source": [
    "df.groupby(['area', 'year', 'month'])[['isNoRain','isOver6TimeSunset','isOver4TimeSunset','isOver2TimeSunset']].sum()"
   ]
  },
  {
   "cell_type": "markdown",
   "id": "b4fe7b43",
   "metadata": {},
   "source": [
    "# 日照時間と雨量の統計"
   ]
  },
  {
   "cell_type": "code",
   "execution_count": 20,
   "id": "d66c8e87",
   "metadata": {},
   "outputs": [
    {
     "data": {
      "text/plain": [
       "count    217732.000000\n",
       "mean          4.435905\n",
       "std          13.590087\n",
       "min           0.000000\n",
       "25%           0.000000\n",
       "50%           0.000000\n",
       "75%           2.000000\n",
       "max         429.500000\n",
       "Name: sum_rain, dtype: float64"
      ]
     },
     "execution_count": 20,
     "metadata": {},
     "output_type": "execute_result"
    }
   ],
   "source": [
    "weather['sum_rain'].describe()"
   ]
  },
  {
   "cell_type": "code",
   "execution_count": 11,
   "id": "a5b849a4",
   "metadata": {},
   "outputs": [
    {
     "name": "stdout",
     "output_type": "stream",
     "text": [
      "area\n"
     ]
    },
    {
     "data": {
      "image/png": "[encoded data removed]",
      "text/plain": [
       "<Figure size 640x480 with 1 Axes>"
      ]
     },
     "metadata": {},
     "output_type": "display_data"
    },
    {
     "data": {
      "image/png": "[encoded data removed]",
      "text/plain": [
       "<Figure size 640x480 with 1 Axes>"
      ]
     },
     "metadata": {},
     "output_type": "display_data"
    }
   ],
   "source": [
    "\n",
    "import numpy as np\n",
    "import matplotlib.pyplot as plt\n",
    "\n",
    "idx = 1\n",
    "print(clm)\n",
    "#\n",
    "plt.hist(weather['sun_time'], alpha = 0.5, label='1', bins=50)\n",
    "plt.legend(loc='upper left')\n",
    "plt.show()\n",
    "\n",
    "plt.hist(weather['sum_rain'], alpha = 0.5, label='1', bins=50)\n",
    "plt.legend(loc='upper left')\n",
    "plt.show()"
   ]
  }
 ],
 "metadata": {
  "kernelspec": {
   "display_name": "Python 3 (ipykernel)",
   "language": "python",
   "name": "python3"
  },
  "language_info": {
   "codemirror_mode": {
    "name": "ipython",
    "version": 3
   },
   "file_extension": ".py",
   "mimetype": "text/x-python",
   "name": "python",
   "nbconvert_exporter": "python",
   "pygments_lexer": "ipython3",
   "version": "3.8.5"
  }
 },
 "nbformat": 4,
 "nbformat_minor": 5
}
