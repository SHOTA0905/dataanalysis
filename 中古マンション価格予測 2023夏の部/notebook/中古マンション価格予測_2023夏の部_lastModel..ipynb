{
 "cells": [
  {
   "cell_type": "code",
   "execution_count": 1,
   "metadata": {
    "execution": {
     "iopub.execute_input": "2023-08-29T06:11:18.750787Z",
     "iopub.status.busy": "2023-08-29T06:11:18.750449Z",
     "iopub.status.idle": "2023-08-29T06:11:18.757521Z",
     "shell.execute_reply": "2023-08-29T06:11:18.756460Z",
     "shell.execute_reply.started": "2023-08-29T06:11:18.750761Z"
    }
   },
   "outputs": [
    {
     "data": {
      "text/plain": [
       "'\\n2023/9/29 記載\\n・最終モデル\\n・次回の課題\\n→特徴量を増やす\\n→データ傾向の則ったnull埋めを行う ※今回は代表値を埋めただけ\\n→ベースモデルを作成することを意識する\\n→パラメーターチューニングをグリッドサーチで行う\\u3000※今回はoputunaを利用\\n→可能なら回帰でモデルを作成する\\n\\n'"
      ]
     },
     "execution_count": 1,
     "metadata": {},
     "output_type": "execute_result"
    }
   ],
   "source": [
    "'''\n",
    "2023/9/29 記載\n",
    "・最終モデル\n",
    "・次回の課題\n",
    "→特徴量を増やす\n",
    "→データ傾向の則ったnull埋めを行う ※今回は代表値を埋めただけ\n",
    "→ベースモデルを作成することを意識する\n",
    "→パラメーターチューニングをグリッドサーチで行う　※今回はoputunaを利用\n",
    "→可能なら回帰でモデルを作成する\n",
    "\n",
    "'''"
   ]
  },
  {
   "cell_type": "code",
   "execution_count": 2,
   "metadata": {
    "execution": {
     "iopub.execute_input": "2023-08-29T06:11:18.760884Z",
     "iopub.status.busy": "2023-08-29T06:11:18.760617Z",
     "iopub.status.idle": "2023-08-29T06:11:18.769945Z",
     "shell.execute_reply": "2023-08-29T06:11:18.768709Z",
     "shell.execute_reply.started": "2023-08-29T06:11:18.760862Z"
    }
   },
   "outputs": [],
   "source": [
    "import numpy as np # linear algebra\n",
    "import pandas as pd # data processing, CSV file I/O (e.g. pd.read_csv)\n",
    "import datetime\n",
    "import sys\n",
    "import math\n",
    "import statistics\n",
    "import japanize_matplotlib\n",
    "import seaborn as sns\n",
    "\n",
    "import os\n",
    "\n",
    "from sklearn.preprocessing import LabelEncoder\n",
    "from sklearn.impute import SimpleImputer\n",
    "\n",
    "from graphviz import Digraph\n",
    "\n",
    "graph_body = Digraph(format=\"png\")\n",
    "graph_body.attr('node', shape='box', fontname='MS Gothic')"
   ]
  },
  {
   "cell_type": "markdown",
   "metadata": {},
   "source": [
    "# trainとtestの読み込み"
   ]
  },
  {
   "cell_type": "code",
   "execution_count": 3,
   "metadata": {
    "execution": {
     "iopub.execute_input": "2023-08-29T06:11:18.780468Z",
     "iopub.status.busy": "2023-08-29T06:11:18.780166Z",
     "iopub.status.idle": "2023-08-29T06:11:21.674283Z",
     "shell.execute_reply": "2023-08-29T06:11:21.672965Z",
     "shell.execute_reply.started": "2023-08-29T06:11:18.780441Z"
    }
   },
   "outputs": [
    {
     "name": "stderr",
     "output_type": "stream",
     "text": [
      "C:\\Users\\s-heya\\AppData\\Local\\Temp\\ipykernel_2132\\1785753801.py:1: DtypeWarning: Columns (11) have mixed types. Specify dtype option on import or set low_memory=False.\n",
      "  train = pd.read_csv('../train.csv')\n"
     ]
    }
   ],
   "source": [
    "train = pd.read_csv('../train.csv')\n",
    "test = pd.read_csv('../test.csv')\n",
    "alldata = pd.concat([train.copy(), test.copy()], axis = 0)"
   ]
  },
  {
   "cell_type": "code",
   "execution_count": 4,
   "metadata": {
    "execution": {
     "iopub.execute_input": "2023-08-29T06:11:21.676489Z",
     "iopub.status.busy": "2023-08-29T06:11:21.676214Z",
     "iopub.status.idle": "2023-08-29T06:11:21.682455Z",
     "shell.execute_reply": "2023-08-29T06:11:21.681199Z",
     "shell.execute_reply.started": "2023-08-29T06:11:21.676467Z"
    }
   },
   "outputs": [
    {
     "name": "stdout",
     "output_type": "stream",
     "text": [
      "779404 18394 797798\n"
     ]
    }
   ],
   "source": [
    "print(len(train),len(test),len(alldata))"
   ]
  },
  {
   "cell_type": "markdown",
   "metadata": {},
   "source": [
    "# データ確認"
   ]
  },
  {
   "cell_type": "markdown",
   "metadata": {},
   "source": [
    "# データ加工"
   ]
  },
  {
   "cell_type": "code",
   "execution_count": 5,
   "metadata": {},
   "outputs": [],
   "source": [
    "# trainDev=train[train['取引価格（総額）_log'] >= 6].copy()\n",
    "trainDev=train.copy()\n",
    "testDev=test.copy()"
   ]
  },
  {
   "cell_type": "code",
   "execution_count": 6,
   "metadata": {},
   "outputs": [],
   "source": [
    "# 市区町村コード"
   ]
  },
  {
   "cell_type": "code",
   "execution_count": 7,
   "metadata": {},
   "outputs": [],
   "source": [
    "# 都道府県名\n",
    "class_le = LabelEncoder()\n",
    "alldata['class_都道府県名'] = class_le.fit_transform(alldata['都道府県名'])\n",
    "\n",
    "def conv_isTOKYO(row):\n",
    "    isTokyo = 0\n",
    "    isKanagawa = 0\n",
    "    if row['都道府県名'] == '東京都':\n",
    "        isTokyo = 1\n",
    "    if row['都道府県名'] == '神奈川県':\n",
    "        isKanagawa = 1\n",
    "    return(isTokyo, isKanagawa)\n",
    "    \n",
    "alldata[['is_東京都', 'is_神奈川県']] = alldata.apply(conv_isTOKYO, axis=1, result_type=\"expand\")\n",
    "alldata['class_都道府県名'] = class_le.fit_transform(alldata['都道府県名'])"
   ]
  },
  {
   "cell_type": "code",
   "execution_count": 8,
   "metadata": {},
   "outputs": [],
   "source": [
    "# 市区町村名\n",
    "# class_le = LabelEncoder()\n",
    "# trainDev['class_市区町村名'] = class_le.fit_transform(trainDev['市区町村名'])\n",
    "\n",
    "chikuCount = train['地区名'].value_counts()\n",
    "shikuchosonCount = train['市区町村名'].value_counts()\n",
    "\n",
    "def func(row):\n",
    "    if row['市区町村名'] == row['市区町村名']:\n",
    "        if shikuchosonCount[row['市区町村名']] >= 100:\n",
    "            return row['市区町村名']\n",
    "        else:\n",
    "            return row['都道府県名']\n",
    "    else:\n",
    "        return row['都道府県名']\n",
    "\n",
    "from sklearn.preprocessing import LabelEncoder\n",
    "class_le = LabelEncoder()\n",
    "alldata['conv_市区町村名'] = alldata.apply(func, axis=1)\n",
    "alldata['class_市区町村名'] = class_le.fit_transform(alldata['conv_市区町村名'])"
   ]
  },
  {
   "cell_type": "code",
   "execution_count": 9,
   "metadata": {},
   "outputs": [],
   "source": [
    "# 地区名\n",
    "alldata['地区名'] = alldata['地区名'].fillna('不明')\n",
    "\n",
    "class_le = LabelEncoder()\n",
    "alldata['class_地区名'] = class_le.fit_transform(alldata['地区名'])"
   ]
  },
  {
   "cell_type": "code",
   "execution_count": 10,
   "metadata": {},
   "outputs": [],
   "source": [
    "# 最寄駅：名称\n",
    "alldata['最寄駅：名称'] = alldata['最寄駅：名称'].fillna('不明')\n",
    "\n",
    "class_le = LabelEncoder()\n",
    "alldata['class_最寄駅：名称'] = class_le.fit_transform(alldata['最寄駅：名称'])"
   ]
  },
  {
   "cell_type": "code",
   "execution_count": 11,
   "metadata": {
    "execution": {
     "iopub.execute_input": "2023-08-29T06:11:22.419294Z",
     "iopub.status.busy": "2023-08-29T06:11:22.418321Z",
     "iopub.status.idle": "2023-08-29T06:11:22.956603Z",
     "shell.execute_reply": "2023-08-29T06:11:22.955460Z",
     "shell.execute_reply.started": "2023-08-29T06:11:22.419242Z"
    }
   },
   "outputs": [],
   "source": [
    "#最寄駅：距離（分）\n",
    "def normalize_moyori(moyori):\n",
    "    if moyori == moyori:\n",
    "        if moyori == '30分?60分':\n",
    "            moyori = 45\n",
    "        elif moyori == '1H?1H30':\n",
    "            moyori = 75\n",
    "        elif moyori == '1H30?2H':\n",
    "            moyori = 105\n",
    "        elif moyori == '2H?':\n",
    "            moyori = 120\n",
    "        moyori = int(float(moyori))\n",
    "    return moyori\n",
    "alldata['最寄駅：距離（分）'] = alldata['最寄駅：距離（分）'].apply(lambda x: normalize_moyori(x))\n",
    "\n",
    "alldata['最寄駅：距離（分）'] = alldata['最寄駅：距離（分）'].fillna(alldata[:len(train)]['最寄駅：距離（分）'].mean())"
   ]
  },
  {
   "cell_type": "code",
   "execution_count": 12,
   "metadata": {
    "execution": {
     "iopub.execute_input": "2023-08-29T06:11:22.967665Z",
     "iopub.status.busy": "2023-08-29T06:11:22.967231Z",
     "iopub.status.idle": "2023-08-29T06:11:23.144939Z",
     "shell.execute_reply": "2023-08-29T06:11:23.144280Z",
     "shell.execute_reply.started": "2023-08-29T06:11:22.967639Z"
    }
   },
   "outputs": [],
   "source": [
    "alldata['間取り'] = alldata['間取り'].fillna('３ＬＤＫ')\n",
    "\n",
    "#「間取り」派生\n",
    "def madori_convert(row):\n",
    "    is_plusS = 0\n",
    "    is_plusK = 0\n",
    "    madori = row['間取り']\n",
    "    if madori == madori:\n",
    "        #+S\n",
    "        if madori.find('＋Ｓ') != -1:\n",
    "            is_plusS = 1\n",
    "            madori = madori.replace('＋Ｓ','')\n",
    "        #+K\n",
    "        if madori.find('＋Ｋ') != -1:\n",
    "            is_plusK = 1\n",
    "            madori = madori.replace('＋Ｋ','')\n",
    "        \n",
    "    return(int(is_plusS),int(is_plusK),madori)\n",
    "\n",
    "alldata[['is_PlusS', 'is_PlusK', '間取り']] = alldata.apply(madori_convert, axis=1, result_type=\"expand\")\n",
    "\n",
    "class_le = LabelEncoder()\n",
    "alldata['class_間取り'] = class_le.fit_transform(alldata['間取り'])"
   ]
  },
  {
   "cell_type": "code",
   "execution_count": 13,
   "metadata": {
    "execution": {
     "iopub.execute_input": "2023-08-29T06:11:23.916439Z",
     "iopub.status.busy": "2023-08-29T06:11:23.915779Z",
     "iopub.status.idle": "2023-08-29T06:11:25.054142Z",
     "shell.execute_reply": "2023-08-29T06:11:25.052692Z",
     "shell.execute_reply.started": "2023-08-29T06:11:23.916406Z"
    }
   },
   "outputs": [],
   "source": [
    "# 面積\n",
    "import re\n",
    "def normalize_menseki(area):\n",
    "    if area == area:\n",
    "        area = int(re.sub('m\\^2未満|㎡以上', '', str(area)))\n",
    "    \n",
    "    if area > 180:\n",
    "        area = 185\n",
    "    \n",
    "    return area\n",
    "\n",
    "alldata['面積（㎡）'] = alldata['面積（㎡）'].apply(lambda x: normalize_menseki(x))\n",
    "\n",
    "alldata['面積（㎡）'] = alldata['面積（㎡）'].fillna(alldata[:len(train)]['面積（㎡）'].mean())"
   ]
  },
  {
   "cell_type": "code",
   "execution_count": 14,
   "metadata": {},
   "outputs": [],
   "source": [
    "#is_15m2\n",
    "def conv_is_15m2(area):\n",
    "    if area <= 15:\n",
    "        return 1\n",
    "    else:\n",
    "        return 0\n",
    "\n",
    "alldata['is_15m2'] = alldata['面積（㎡）'].apply(lambda x: conv_is_15m2(x))"
   ]
  },
  {
   "cell_type": "code",
   "execution_count": 15,
   "metadata": {
    "execution": {
     "iopub.execute_input": "2023-08-29T06:11:25.056321Z",
     "iopub.status.busy": "2023-08-29T06:11:25.055883Z",
     "iopub.status.idle": "2023-08-29T06:11:25.676520Z",
     "shell.execute_reply": "2023-08-29T06:11:25.674812Z",
     "shell.execute_reply.started": "2023-08-29T06:11:25.056286Z"
    }
   },
   "outputs": [],
   "source": [
    "#建築年\n",
    "def convert_wareki_to_seireki(wareki):\n",
    "    if wareki == wareki:\n",
    "        if wareki == '戦前':\n",
    "            wareki = '昭和20年'\n",
    "        value = wareki[2:-1]\n",
    "        if value == '元':\n",
    "            value = 1\n",
    "        else:\n",
    "            value = int(value)\n",
    "        if '昭和' in wareki:\n",
    "            seireki = 1925+value\n",
    "        elif '平成' in wareki:\n",
    "            seireki = 1988+value\n",
    "        elif '令和' in wareki:\n",
    "            seireki = 2018+value\n",
    "    else:\n",
    "        seireki = wareki\n",
    "    return seireki\n",
    "\n",
    "alldata['建築年'] = alldata['建築年'].apply(lambda x: convert_wareki_to_seireki(x))\n",
    "\n",
    "alldata['建築年'] = alldata['建築年'].fillna(statistics.mode(alldata[:len(train)]['建築年']))"
   ]
  },
  {
   "cell_type": "code",
   "execution_count": 16,
   "metadata": {
    "execution": {
     "iopub.execute_input": "2023-08-29T06:11:25.681599Z",
     "iopub.status.busy": "2023-08-29T06:11:25.681290Z",
     "iopub.status.idle": "2023-08-29T06:11:25.848068Z",
     "shell.execute_reply": "2023-08-29T06:11:25.846806Z",
     "shell.execute_reply.started": "2023-08-29T06:11:25.681573Z"
    }
   },
   "outputs": [],
   "source": [
    "#建物の構造(カテゴリ変数化する)\n",
    "alldata['建物の構造'] = alldata['建物の構造'].fillna(statistics.mode(alldata[:len(train)]['建物の構造']))\n",
    "\n",
    "class_le = LabelEncoder()\n",
    "alldata['class_建物の構造'] = class_le.fit_transform(alldata['建物の構造'])"
   ]
  },
  {
   "cell_type": "code",
   "execution_count": 17,
   "metadata": {
    "execution": {
     "iopub.execute_input": "2023-08-29T06:11:25.850161Z",
     "iopub.status.busy": "2023-08-29T06:11:25.849824Z",
     "iopub.status.idle": "2023-08-29T06:11:26.017844Z",
     "shell.execute_reply": "2023-08-29T06:11:26.016429Z",
     "shell.execute_reply.started": "2023-08-29T06:11:25.850135Z"
    }
   },
   "outputs": [],
   "source": [
    "#用途(カテゴリ変数化)\n",
    "alldata['用途'] = alldata['用途'].fillna(statistics.mode(alldata[:len(train)]['用途']))\n",
    "\n",
    "class_le = LabelEncoder()\n",
    "alldata['class_用途'] = class_le.fit_transform(alldata['用途'])"
   ]
  },
  {
   "cell_type": "code",
   "execution_count": 18,
   "metadata": {
    "execution": {
     "iopub.execute_input": "2023-08-29T06:11:26.019269Z",
     "iopub.status.busy": "2023-08-29T06:11:26.019036Z",
     "iopub.status.idle": "2023-08-29T06:11:26.189965Z",
     "shell.execute_reply": "2023-08-29T06:11:26.188290Z",
     "shell.execute_reply.started": "2023-08-29T06:11:26.019248Z"
    }
   },
   "outputs": [],
   "source": [
    "# 今後の利用目的(カテゴリ変数化)\n",
    "alldata['今後の利用目的'] = alldata['今後の利用目的'].fillna('その他')\n",
    "\n",
    "class_le = LabelEncoder()\n",
    "alldata['class_今後の利用目的'] = class_le.fit_transform(alldata['今後の利用目的'])"
   ]
  },
  {
   "cell_type": "code",
   "execution_count": 19,
   "metadata": {
    "execution": {
     "iopub.execute_input": "2023-08-29T06:11:26.191544Z",
     "iopub.status.busy": "2023-08-29T06:11:26.191252Z",
     "iopub.status.idle": "2023-08-29T06:11:26.371581Z",
     "shell.execute_reply": "2023-08-29T06:11:26.370617Z",
     "shell.execute_reply.started": "2023-08-29T06:11:26.191520Z"
    }
   },
   "outputs": [],
   "source": [
    "# 都市計画(カテゴリ変数化)\n",
    "alldata['都市計画'] = alldata['都市計画'].fillna('第１種中高層住居専用地域')\n",
    "\n",
    "class_le = LabelEncoder()\n",
    "alldata['class_都市計画'] = class_le.fit_transform(alldata['都市計画'])"
   ]
  },
  {
   "cell_type": "code",
   "execution_count": 20,
   "metadata": {},
   "outputs": [],
   "source": [
    "# 建ぺい率（％）  \n",
    "alldata['建ぺい率（％）'] = alldata['建ぺい率（％）'].fillna(alldata[:len(train)]['建ぺい率（％）'].median())"
   ]
  },
  {
   "cell_type": "code",
   "execution_count": 21,
   "metadata": {},
   "outputs": [],
   "source": [
    "# 容積率（％）\n",
    "alldata['容積率（％）'] = alldata['容積率（％）'].fillna(alldata[:len(train)]['容積率（％）'].median())"
   ]
  },
  {
   "cell_type": "code",
   "execution_count": 22,
   "metadata": {
    "execution": {
     "iopub.execute_input": "2023-08-29T06:11:26.373354Z",
     "iopub.status.busy": "2023-08-29T06:11:26.372672Z",
     "iopub.status.idle": "2023-08-29T06:11:27.412464Z",
     "shell.execute_reply": "2023-08-29T06:11:27.411756Z",
     "shell.execute_reply.started": "2023-08-29T06:11:26.373329Z"
    }
   },
   "outputs": [],
   "source": [
    "# 取引時点（取引年と取引月の2変数化）　※1月はじまりのため4月はじまりで直すべきかも\n",
    "# 取引年\n",
    "def convert_torihikiNen(torihikijiten):\n",
    "    torihikiYear = torihikijiten[0:4]\n",
    "    torihikiYear = int(float(torihikiYear))\n",
    "    return torihikiYear\n",
    "alldata['取引年'] = alldata['取引時点'].apply(lambda x: convert_torihikiNen(x))\n",
    "\n",
    "# 取引月\n",
    "def convert_torihikiTsuki(torihikijiten):\n",
    "    torihikiTsuki = 1\n",
    "    if torihikijiten[5:] == '第1四半期':\n",
    "        torihikiTsuki = 1\n",
    "    elif torihikijiten[5:] == '第2四半期':\n",
    "        torihikiTsuki = 4\n",
    "    elif torihikijiten[5:] == '第3四半期':\n",
    "        torihikiTsuki = 7\n",
    "    elif torihikijiten[5:] == '第4四半期':\n",
    "        torihikiTsuki = 10\n",
    "    return torihikiTsuki\n",
    "alldata['取引月'] = alldata['取引時点'].apply(lambda x: convert_torihikiTsuki(x))"
   ]
  },
  {
   "cell_type": "code",
   "execution_count": 23,
   "metadata": {
    "execution": {
     "iopub.execute_input": "2023-08-29T06:11:27.414152Z",
     "iopub.status.busy": "2023-08-29T06:11:27.413452Z",
     "iopub.status.idle": "2023-08-29T06:11:27.582029Z",
     "shell.execute_reply": "2023-08-29T06:11:27.581209Z",
     "shell.execute_reply.started": "2023-08-29T06:11:27.414118Z"
    }
   },
   "outputs": [],
   "source": [
    "#改装(カテゴリ変数化)\n",
    "alldata['都市計画'] = alldata['都市計画'].fillna('未改装')\n",
    "\n",
    "class_le = LabelEncoder()\n",
    "alldata['class_改装'] = class_le.fit_transform(alldata['改装'])"
   ]
  },
  {
   "cell_type": "code",
   "execution_count": 24,
   "metadata": {},
   "outputs": [],
   "source": [
    "# 取引の事情等\n",
    "alldata['取引の事情等'] = alldata['取引の事情等'].fillna('なし')\n",
    "\n",
    "class_le = LabelEncoder()\n",
    "alldata['class_取引の事情等'] = class_le.fit_transform(alldata['取引の事情等'])"
   ]
  },
  {
   "cell_type": "code",
   "execution_count": 25,
   "metadata": {},
   "outputs": [],
   "source": [
    "# 建築経過年数\n",
    "def convert_kenchikuYear(kenchikuYear):\n",
    "    if kenchikuYear < 0:\n",
    "        return 0\n",
    "    elif kenchikuYear > 50:\n",
    "        return 51\n",
    "    else:\n",
    "        return kenchikuYear\n",
    "alldata['建築経過年数'] = alldata['取引年']-alldata['建築年'] \n",
    "alldata['建築経過年数'] = alldata['建築経過年数'].apply(lambda x: convert_kenchikuYear(x))"
   ]
  },
  {
   "cell_type": "code",
   "execution_count": 26,
   "metadata": {},
   "outputs": [],
   "source": [
    "# 建築年×建築経過年\n",
    "alldata['建築年_建築経過年'] = alldata['建築年'].astype(str) + '_' + alldata['建築経過年数'].astype(str)\n",
    "class_le = LabelEncoder()\n",
    "alldata['建築年_建築経過年'] = class_le.fit_transform(alldata['建築年_建築経過年'])"
   ]
  },
  {
   "cell_type": "code",
   "execution_count": 27,
   "metadata": {},
   "outputs": [],
   "source": [
    "# 取引年代\n",
    "alldata['取引年代'] = (alldata['取引年'] / 10).astype(int) * 10"
   ]
  },
  {
   "cell_type": "code",
   "execution_count": 28,
   "metadata": {},
   "outputs": [],
   "source": [
    "# # 組み合わせ\n",
    "# #https://assam-blog.com/python-basis-combination/\n",
    "\n",
    "# from itertools import combinations as comb\n",
    "\n",
    "# categoryClm = ['間取り', '建物の構造', '用途', '今後の利用目的', '都市計画', '取引の事情等']\n",
    "# C = comb(categoryClm,2)\n",
    "\n",
    "# L = list(C)\n",
    "\n",
    "# len(L)\n",
    "\n",
    "# for tp in L:\n",
    "#     clmlist = list(tp)\n",
    "#     print('{}_{}'.format(clmlist[0], clmlist[1]))\n",
    "#     clmName = 'class_{}_{}'.format(clmlist[0], clmlist[1])\n",
    "#     alldata[clmName] = alldata[clmlist[0]].astype(str) + '_' + alldata[clmlist[1]].astype(str)"
   ]
  },
  {
   "cell_type": "code",
   "execution_count": 29,
   "metadata": {},
   "outputs": [
    {
     "data": {
      "text/plain": [
       "Index(['Unnamed: 0', 'ID', '種類', '地域', '市区町村コード', '都道府県名', '市区町村名', '地区名',\n",
       "       '最寄駅：名称', '最寄駅：距離（分）', '間取り', '面積（㎡）', '土地の形状', '間口', '延床面積（㎡）', '建築年',\n",
       "       '建物の構造', '用途', '今後の利用目的', '前面道路：方位', '前面道路：種類', '前面道路：幅員（ｍ）', '都市計画',\n",
       "       '建ぺい率（％）', '容積率（％）', '取引時点', '改装', '取引の事情等', '取引価格（総額）_log',\n",
       "       'class_都道府県名', 'is_東京都', 'is_神奈川県', 'conv_市区町村名', 'class_市区町村名',\n",
       "       'class_地区名', 'class_最寄駅：名称', 'is_PlusS', 'is_PlusK', 'class_間取り',\n",
       "       'is_15m2', 'class_建物の構造', 'class_用途', 'class_今後の利用目的', 'class_都市計画',\n",
       "       '取引年', '取引月', 'class_改装', 'class_取引の事情等', '建築経過年数', '建築年_建築経過年',\n",
       "       '取引年代'],\n",
       "      dtype='object')"
      ]
     },
     "execution_count": 29,
     "metadata": {},
     "output_type": "execute_result"
    }
   ],
   "source": [
    "alldata.columns"
   ]
  },
  {
   "cell_type": "markdown",
   "metadata": {},
   "source": [
    "# モデル構築"
   ]
  },
  {
   "cell_type": "code",
   "execution_count": 30,
   "metadata": {
    "execution": {
     "iopub.execute_input": "2023-08-29T06:11:28.241304Z",
     "iopub.status.busy": "2023-08-29T06:11:28.241066Z",
     "iopub.status.idle": "2023-08-29T06:11:28.583793Z",
     "shell.execute_reply": "2023-08-29T06:11:28.582481Z",
     "shell.execute_reply.started": "2023-08-29T06:11:28.241282Z"
    }
   },
   "outputs": [],
   "source": [
    "# exp_val_columns = ['市区町村コード','最寄駅：距離（分）','面積（㎡）','建築年','建ぺい率（％）','容積率（％）',\n",
    "#                    'class_都道府県名','class_地区名','class_最寄駅：名称','class_間取り','class_建物の構造',\n",
    "#                    'class_用途','class_都市計画','取引年','取引月','class_改装','class_取引の事情等','class_今後の利用目的']\n",
    "exp_val_columns = ['最寄駅：距離（分）','面積（㎡）','建ぺい率（％）','容積率（％）','建築年','取引年代',\n",
    "                   'class_間取り','class_建物の構造','建築経過年数','is_PlusS', 'is_PlusK','is_東京都','is_神奈川県',\n",
    "                   'class_用途','class_都市計画','取引年','取引月','class_改装','class_取引の事情等','class_今後の利用目的',\n",
    "                   'is_15m2','市区町村コード']\n",
    "obj_val_columns = ['取引価格（総額）_log']\n",
    "\n",
    "train_for_model = alldata[:len(trainDev)].copy()\n",
    "test_for_model = alldata[len(trainDev):]\n",
    "\n",
    "train_for_model.head().to_csv('train_加工後.csv', index=False,encoding='cp932')"
   ]
  },
  {
   "cell_type": "code",
   "execution_count": 31,
   "metadata": {
    "execution": {
     "iopub.execute_input": "2023-08-29T06:11:28.603633Z",
     "iopub.status.busy": "2023-08-29T06:11:28.603369Z",
     "iopub.status.idle": "2023-08-29T06:11:28.608415Z",
     "shell.execute_reply": "2023-08-29T06:11:28.607589Z",
     "shell.execute_reply.started": "2023-08-29T06:11:28.603610Z"
    }
   },
   "outputs": [
    {
     "name": "stdout",
     "output_type": "stream",
     "text": [
      "779404 18394\n",
      "Index(['Unnamed: 0', 'ID', '種類', '地域', '市区町村コード', '都道府県名', '市区町村名', '地区名',\n",
      "       '最寄駅：名称', '最寄駅：距離（分）', '間取り', '面積（㎡）', '土地の形状', '間口', '延床面積（㎡）', '建築年',\n",
      "       '建物の構造', '用途', '今後の利用目的', '前面道路：方位', '前面道路：種類', '前面道路：幅員（ｍ）', '都市計画',\n",
      "       '建ぺい率（％）', '容積率（％）', '取引時点', '改装', '取引の事情等', '取引価格（総額）_log',\n",
      "       'class_都道府県名', 'is_東京都', 'is_神奈川県', 'conv_市区町村名', 'class_市区町村名',\n",
      "       'class_地区名', 'class_最寄駅：名称', 'is_PlusS', 'is_PlusK', 'class_間取り',\n",
      "       'is_15m2', 'class_建物の構造', 'class_用途', 'class_今後の利用目的', 'class_都市計画',\n",
      "       '取引年', '取引月', 'class_改装', 'class_取引の事情等', '建築経過年数', '建築年_建築経過年',\n",
      "       '取引年代'],\n",
      "      dtype='object')\n"
     ]
    }
   ],
   "source": [
    "print(len(train_for_model),len(test_for_model))\n",
    "print(test_for_model.columns)"
   ]
  },
  {
   "cell_type": "code",
   "execution_count": 32,
   "metadata": {},
   "outputs": [],
   "source": [
    "from sklearn.model_selection import train_test_split\n",
    "\n",
    "y_train =  train_for_model.copy()['取引価格（総額）_log']\n",
    "X_train_base =  train_for_model.copy().drop('取引価格（総額）_log', axis=1)\n",
    "X_test = test_for_model[exp_val_columns].copy()\n",
    "\n",
    "# stratifyパラメータについて\n",
    "# https://kakakakakku.hatenablog.com/entry/2021/11/30/160351\n",
    "# random_stateを指定することで同じ分割を行う\n",
    "X_train_base, X_valid_base, y_train, y_valid = \\\n",
    "    train_test_split(X_train_base, y_train, test_size=0.3,\n",
    "                                 random_state=0)\n",
    "\n",
    "X_train = X_train_base.copy()[exp_val_columns]\n",
    "X_valid = X_valid_base.copy()[exp_val_columns]"
   ]
  },
  {
   "cell_type": "code",
   "execution_count": 33,
   "metadata": {},
   "outputs": [
    {
     "data": {
      "text/plain": [
       "Index(['最寄駅：距離（分）', '面積（㎡）', '建ぺい率（％）', '容積率（％）', '建築年', '取引年代', 'class_間取り',\n",
       "       'class_建物の構造', '建築経過年数', 'is_PlusS', 'is_PlusK', 'is_東京都', 'is_神奈川県',\n",
       "       'class_用途', 'class_都市計画', '取引年', '取引月', 'class_改装', 'class_取引の事情等',\n",
       "       'class_今後の利用目的', 'is_15m2', '市区町村コード'],\n",
       "      dtype='object')"
      ]
     },
     "execution_count": 33,
     "metadata": {},
     "output_type": "execute_result"
    }
   ],
   "source": [
    "X_train.columns"
   ]
  },
  {
   "cell_type": "code",
   "execution_count": 34,
   "metadata": {
    "execution": {
     "iopub.execute_input": "2023-08-29T06:11:28.757935Z",
     "iopub.status.busy": "2023-08-29T06:11:28.757698Z",
     "iopub.status.idle": "2023-08-29T06:20:28.270634Z",
     "shell.execute_reply": "2023-08-29T06:20:28.269468Z",
     "shell.execute_reply.started": "2023-08-29T06:11:28.757914Z"
    },
    "scrolled": false
   },
   "outputs": [
    {
     "name": "stderr",
     "output_type": "stream",
     "text": [
      "C:\\Users\\s-heya\\Anaconda3\\lib\\site-packages\\lightgbm\\engine.py:172: UserWarning: Found `num_iterations` in params. Will use it instead of argument\n",
      "  _log_warning(f\"Found `{alias}` in params. Will use it instead of argument\")\n"
     ]
    },
    {
     "name": "stdout",
     "output_type": "stream",
     "text": [
      "Training until validation scores don't improve for 10 rounds\n",
      "[100]\ttraining's l1: 0.0864285\tvalid_1's l1: 0.0883684\n",
      "[200]\ttraining's l1: 0.0823732\tvalid_1's l1: 0.0851853\n",
      "[300]\ttraining's l1: 0.0807069\tvalid_1's l1: 0.0840458\n",
      "[400]\ttraining's l1: 0.0797826\tvalid_1's l1: 0.0835065\n",
      "[500]\ttraining's l1: 0.0790856\tvalid_1's l1: 0.0831432\n",
      "[600]\ttraining's l1: 0.0785171\tvalid_1's l1: 0.0828965\n",
      "[700]\ttraining's l1: 0.0780167\tvalid_1's l1: 0.0826935\n",
      "[800]\ttraining's l1: 0.0775554\tvalid_1's l1: 0.082502\n",
      "[900]\ttraining's l1: 0.0771312\tvalid_1's l1: 0.0823426\n",
      "[1000]\ttraining's l1: 0.0767886\tvalid_1's l1: 0.0822226\n",
      "[1100]\ttraining's l1: 0.0764555\tvalid_1's l1: 0.0821039\n",
      "[1200]\ttraining's l1: 0.0761233\tvalid_1's l1: 0.0819795\n",
      "[1300]\ttraining's l1: 0.0758282\tvalid_1's l1: 0.0818834\n",
      "[1400]\ttraining's l1: 0.0755354\tvalid_1's l1: 0.0817707\n",
      "[1500]\ttraining's l1: 0.0752817\tvalid_1's l1: 0.0816851\n",
      "[1600]\ttraining's l1: 0.0750501\tvalid_1's l1: 0.0816137\n",
      "[1700]\ttraining's l1: 0.0748071\tvalid_1's l1: 0.0815395\n",
      "[1800]\ttraining's l1: 0.0745728\tvalid_1's l1: 0.0814635\n",
      "[1900]\ttraining's l1: 0.0743709\tvalid_1's l1: 0.0814046\n",
      "[2000]\ttraining's l1: 0.074181\tvalid_1's l1: 0.0813484\n",
      "[2100]\ttraining's l1: 0.0740059\tvalid_1's l1: 0.0813011\n",
      "[2200]\ttraining's l1: 0.0738351\tvalid_1's l1: 0.0812476\n",
      "[2300]\ttraining's l1: 0.0736214\tvalid_1's l1: 0.0811707\n",
      "[2400]\ttraining's l1: 0.0734632\tvalid_1's l1: 0.0811275\n",
      "[2500]\ttraining's l1: 0.0733216\tvalid_1's l1: 0.0810911\n",
      "[2600]\ttraining's l1: 0.0731877\tvalid_1's l1: 0.0810607\n",
      "[2700]\ttraining's l1: 0.0730535\tvalid_1's l1: 0.0810287\n",
      "[2800]\ttraining's l1: 0.0729304\tvalid_1's l1: 0.0809979\n",
      "[2900]\ttraining's l1: 0.0727831\tvalid_1's l1: 0.0809518\n",
      "[3000]\ttraining's l1: 0.0726696\tvalid_1's l1: 0.0809227\n",
      "[3100]\ttraining's l1: 0.0725652\tvalid_1's l1: 0.0809006\n",
      "[3200]\ttraining's l1: 0.0724479\tvalid_1's l1: 0.0808712\n",
      "[3300]\ttraining's l1: 0.0723315\tvalid_1's l1: 0.0808441\n",
      "[3400]\ttraining's l1: 0.0722065\tvalid_1's l1: 0.0808165\n",
      "[3500]\ttraining's l1: 0.0720965\tvalid_1's l1: 0.080789\n",
      "[3600]\ttraining's l1: 0.0719893\tvalid_1's l1: 0.0807556\n",
      "[3700]\ttraining's l1: 0.0719044\tvalid_1's l1: 0.0807349\n",
      "[3800]\ttraining's l1: 0.0718187\tvalid_1's l1: 0.080706\n",
      "[3900]\ttraining's l1: 0.0717296\tvalid_1's l1: 0.0806855\n",
      "[4000]\ttraining's l1: 0.0716443\tvalid_1's l1: 0.0806643\n",
      "[4100]\ttraining's l1: 0.0715533\tvalid_1's l1: 0.0806436\n",
      "[4200]\ttraining's l1: 0.0714699\tvalid_1's l1: 0.0806289\n",
      "[4300]\ttraining's l1: 0.0713901\tvalid_1's l1: 0.080614\n",
      "[4400]\ttraining's l1: 0.0713163\tvalid_1's l1: 0.0805971\n",
      "[4500]\ttraining's l1: 0.0712348\tvalid_1's l1: 0.0805752\n",
      "[4600]\ttraining's l1: 0.071152\tvalid_1's l1: 0.0805526\n",
      "[4700]\ttraining's l1: 0.0710681\tvalid_1's l1: 0.0805319\n",
      "[4800]\ttraining's l1: 0.0709934\tvalid_1's l1: 0.0805166\n",
      "[4900]\ttraining's l1: 0.0709193\tvalid_1's l1: 0.0804985\n",
      "[5000]\ttraining's l1: 0.0708443\tvalid_1's l1: 0.0804822\n",
      "[5100]\ttraining's l1: 0.0707818\tvalid_1's l1: 0.0804702\n",
      "[5200]\ttraining's l1: 0.0707104\tvalid_1's l1: 0.0804555\n",
      "[5300]\ttraining's l1: 0.0706321\tvalid_1's l1: 0.0804373\n",
      "[5400]\ttraining's l1: 0.0705685\tvalid_1's l1: 0.080422\n",
      "[5500]\ttraining's l1: 0.0705082\tvalid_1's l1: 0.0804104\n",
      "[5600]\ttraining's l1: 0.0704425\tvalid_1's l1: 0.0803959\n",
      "[5700]\ttraining's l1: 0.0703781\tvalid_1's l1: 0.0803804\n",
      "[5800]\ttraining's l1: 0.0703197\tvalid_1's l1: 0.0803704\n",
      "[5900]\ttraining's l1: 0.0702723\tvalid_1's l1: 0.0803614\n",
      "Early stopping, best iteration is:\n",
      "[5936]\ttraining's l1: 0.0702432\tvalid_1's l1: 0.0803557\n",
      "291.84967500000005\n"
     ]
    }
   ],
   "source": [
    "import time\n",
    "import lightgbm as lgb\n",
    "\n",
    "time_sta = time.perf_counter()\n",
    "# params = {\n",
    "#     'objective': 'regression_l1',\n",
    "#     'metric': 'mae',\n",
    "#     'random_state': 0,\n",
    "#     'boosting_type': 'gbdt',\n",
    "#     'verbose': -1,\n",
    "#     'n_jobs': 8,\n",
    "#     'force_col_wise': 'true'\n",
    "# }\n",
    "\n",
    "params = {'objective': 'regression_l1',\n",
    " 'metric': 'l1',\n",
    " 'random_state': 0,\n",
    " 'boosting_type': 'gbdt',\n",
    " 'verbose': -1,\n",
    " 'n_jobs': 16,\n",
    " 'force_col_wise': 'true',\n",
    " 'max_depth': 7,\n",
    " 'feature_pre_filter': False,\n",
    " 'lambda_l1': 0.8934032275177914,\n",
    " 'lambda_l2': 6.123046555632642e-05,\n",
    " 'num_leaves': 51,\n",
    " 'feature_fraction': 0.8999999999999999,\n",
    " 'bagging_fraction': 1.0,\n",
    " 'bagging_freq': 0,\n",
    " 'min_child_samples': 20,\n",
    " 'num_iterations': 10000,\n",
    " 'early_stopping_round': 10\n",
    "}\n",
    "\n",
    "# categorical_features=['市区町村コード','class_都道府県名','class_地区名','class_最寄駅：名称','class_間取り','class_建物の構造',\n",
    "#                    'class_用途','class_都市計画','取引年','取引月','class_改装','class_取引の事情等','class_今後の利用目的']\n",
    "categorical_features=['class_間取り','class_建物の構造', 'class_間取り','is_PlusS', 'is_PlusK','is_東京都','is_神奈川県','取引年代',\n",
    "                      'class_用途','class_都市計画','取引年','取引月','class_改装','class_取引の事情等','class_今後の利用目的',\n",
    "                      'is_15m2','市区町村コード']\n",
    "\n",
    "lgb_train = lgb.Dataset(X_train,y_train,categorical_feature=categorical_features)\n",
    "lgb_eval  = lgb.Dataset(X_valid,y_valid,reference=lgb_train,categorical_feature=categorical_features)\n",
    "\n",
    "# モデルの学習\n",
    "model = lgb.train(\n",
    "    params, \n",
    "    lgb_train, \n",
    "    valid_sets=[lgb_train,lgb_eval],\n",
    "    num_boost_round=10000,\n",
    "    callbacks=[lgb.early_stopping(stopping_rounds=10, \n",
    "                            verbose=True), # early_stopping用コールバック関数\n",
    "                        lgb.log_evaluation(100)]\n",
    ")\n",
    "\n",
    "time_end = time.perf_counter()\n",
    "\n",
    "print(time_end- time_sta)"
   ]
  },
  {
   "cell_type": "markdown",
   "metadata": {},
   "source": [
    "# モデル適用"
   ]
  },
  {
   "cell_type": "code",
   "execution_count": 35,
   "metadata": {
    "execution": {
     "iopub.execute_input": "2023-08-29T06:20:45.418592Z",
     "iopub.status.busy": "2023-08-29T06:20:45.418306Z",
     "iopub.status.idle": "2023-08-29T06:20:45.427958Z",
     "shell.execute_reply": "2023-08-29T06:20:45.427034Z",
     "shell.execute_reply.started": "2023-08-29T06:20:45.418569Z"
    }
   },
   "outputs": [
    {
     "data": {
      "text/plain": [
       "18394"
      ]
     },
     "execution_count": 35,
     "metadata": {},
     "output_type": "execute_result"
    }
   ],
   "source": [
    "y_pred = model.predict(X_test)\n",
    "len(y_pred)"
   ]
  },
  {
   "cell_type": "code",
   "execution_count": 36,
   "metadata": {
    "execution": {
     "iopub.execute_input": "2023-08-29T06:20:45.429633Z",
     "iopub.status.busy": "2023-08-29T06:20:45.429293Z",
     "iopub.status.idle": "2023-08-29T06:20:45.488522Z",
     "shell.execute_reply": "2023-08-29T06:20:45.487042Z",
     "shell.execute_reply.started": "2023-08-29T06:20:45.429603Z"
    }
   },
   "outputs": [],
   "source": [
    "sub = pd.read_csv('../sample_submission.csv')\n",
    "sub['取引価格（総額）_log'] = y_pred\n",
    "sub.to_csv('submission.csv', index=False)"
   ]
  },
  {
   "cell_type": "markdown",
   "metadata": {},
   "source": [
    "# 評価"
   ]
  },
  {
   "cell_type": "code",
   "execution_count": 37,
   "metadata": {},
   "outputs": [
    {
     "name": "stdout",
     "output_type": "stream",
     "text": [
      "0.07336110568337847\n"
     ]
    }
   ],
   "source": [
    "from sklearn.model_selection import train_test_split\n",
    "\n",
    "y_train =  train_for_model.copy()['取引価格（総額）_log']\n",
    "X_train_base =  train_for_model.copy().drop('取引価格（総額）_log', axis=1)\n",
    "X_test = test_for_model[exp_val_columns].copy()\n",
    "\n",
    "# stratifyパラメータについて\n",
    "# https://kakakakakku.hatenablog.com/entry/2021/11/30/160351\n",
    "# random_stateを指定することで同じ分割を行う\n",
    "X_train_base, X_valid_base, y_train, y_valid = \\\n",
    "    train_test_split(X_train_base, y_train, test_size=0.3,\n",
    "                                 random_state=42)\n",
    "\n",
    "X_train = X_train_base.copy()[exp_val_columns]\n",
    "X_valid = X_valid_base.copy()[exp_val_columns]\n",
    "\n",
    "len(X_valid)\n",
    "X_valid_base['取引価格（総額）_log'] = y_valid\n",
    "X_valid_base['pred_取引価格（総額）_log'] = model.predict(X_valid)\n",
    "\n",
    "from sklearn.metrics import mean_absolute_error\n",
    "df = X_valid_base.copy()\n",
    "print(mean_absolute_error(df['取引価格（総額）_log'], df['pred_取引価格（総額）_log']))"
   ]
  },
  {
   "cell_type": "code",
   "execution_count": 38,
   "metadata": {},
   "outputs": [
    {
     "data": {
      "text/html": [
       "<div>\n",
       "<style scoped>\n",
       "    .dataframe tbody tr th:only-of-type {\n",
       "        vertical-align: middle;\n",
       "    }\n",
       "\n",
       "    .dataframe tbody tr th {\n",
       "        vertical-align: top;\n",
       "    }\n",
       "\n",
       "    .dataframe thead th {\n",
       "        text-align: right;\n",
       "    }\n",
       "</style>\n",
       "<table border=\"1\" class=\"dataframe\">\n",
       "  <thead>\n",
       "    <tr style=\"text-align: right;\">\n",
       "      <th></th>\n",
       "      <th>importance</th>\n",
       "    </tr>\n",
       "  </thead>\n",
       "  <tbody>\n",
       "    <tr>\n",
       "      <th>市区町村コード</th>\n",
       "      <td>1987949</td>\n",
       "    </tr>\n",
       "    <tr>\n",
       "      <th>建築年</th>\n",
       "      <td>1703656</td>\n",
       "    </tr>\n",
       "    <tr>\n",
       "      <th>面積（㎡）</th>\n",
       "      <td>939762</td>\n",
       "    </tr>\n",
       "    <tr>\n",
       "      <th>取引年</th>\n",
       "      <td>455661</td>\n",
       "    </tr>\n",
       "    <tr>\n",
       "      <th>最寄駅：距離（分）</th>\n",
       "      <td>359047</td>\n",
       "    </tr>\n",
       "    <tr>\n",
       "      <th>建築経過年数</th>\n",
       "      <td>247894</td>\n",
       "    </tr>\n",
       "    <tr>\n",
       "      <th>class_改装</th>\n",
       "      <td>194159</td>\n",
       "    </tr>\n",
       "    <tr>\n",
       "      <th>class_都市計画</th>\n",
       "      <td>170110</td>\n",
       "    </tr>\n",
       "    <tr>\n",
       "      <th>class_間取り</th>\n",
       "      <td>153610</td>\n",
       "    </tr>\n",
       "    <tr>\n",
       "      <th>is_東京都</th>\n",
       "      <td>109032</td>\n",
       "    </tr>\n",
       "    <tr>\n",
       "      <th>容積率（％）</th>\n",
       "      <td>88143</td>\n",
       "    </tr>\n",
       "    <tr>\n",
       "      <th>取引月</th>\n",
       "      <td>44668</td>\n",
       "    </tr>\n",
       "    <tr>\n",
       "      <th>class_取引の事情等</th>\n",
       "      <td>43981</td>\n",
       "    </tr>\n",
       "    <tr>\n",
       "      <th>class_今後の利用目的</th>\n",
       "      <td>41430</td>\n",
       "    </tr>\n",
       "    <tr>\n",
       "      <th>class_建物の構造</th>\n",
       "      <td>27351</td>\n",
       "    </tr>\n",
       "    <tr>\n",
       "      <th>取引年代</th>\n",
       "      <td>20981</td>\n",
       "    </tr>\n",
       "    <tr>\n",
       "      <th>is_神奈川県</th>\n",
       "      <td>17570</td>\n",
       "    </tr>\n",
       "    <tr>\n",
       "      <th>建ぺい率（％）</th>\n",
       "      <td>13332</td>\n",
       "    </tr>\n",
       "    <tr>\n",
       "      <th>class_用途</th>\n",
       "      <td>4282</td>\n",
       "    </tr>\n",
       "    <tr>\n",
       "      <th>is_15m2</th>\n",
       "      <td>3091</td>\n",
       "    </tr>\n",
       "    <tr>\n",
       "      <th>is_PlusS</th>\n",
       "      <td>2712</td>\n",
       "    </tr>\n",
       "    <tr>\n",
       "      <th>is_PlusK</th>\n",
       "      <td>0</td>\n",
       "    </tr>\n",
       "  </tbody>\n",
       "</table>\n",
       "</div>"
      ],
      "text/plain": [
       "               importance\n",
       "市区町村コード           1987949\n",
       "建築年               1703656\n",
       "面積（㎡）              939762\n",
       "取引年                455661\n",
       "最寄駅：距離（分）          359047\n",
       "建築経過年数             247894\n",
       "class_改装           194159\n",
       "class_都市計画         170110\n",
       "class_間取り          153610\n",
       "is_東京都             109032\n",
       "容積率（％）              88143\n",
       "取引月                 44668\n",
       "class_取引の事情等        43981\n",
       "class_今後の利用目的       41430\n",
       "class_建物の構造         27351\n",
       "取引年代                20981\n",
       "is_神奈川県             17570\n",
       "建ぺい率（％）             13332\n",
       "class_用途             4282\n",
       "is_15m2              3091\n",
       "is_PlusS             2712\n",
       "is_PlusK                0"
      ]
     },
     "execution_count": 38,
     "metadata": {},
     "output_type": "execute_result"
    }
   ],
   "source": [
    "importance = pd.DataFrame(\n",
    "\tmodel.feature_importance(importance_type='gain'),\n",
    "\tindex=X_train.columns,\n",
    "\tcolumns=['importance']).sort_values('importance', ascending=False)\n",
    "\n",
    "importance.astype(int)"
   ]
  },
  {
   "cell_type": "code",
   "execution_count": 39,
   "metadata": {
    "scrolled": false
   },
   "outputs": [
    {
     "data": {
      "text/html": [
       "<div>\n",
       "<style scoped>\n",
       "    .dataframe tbody tr th:only-of-type {\n",
       "        vertical-align: middle;\n",
       "    }\n",
       "\n",
       "    .dataframe tbody tr th {\n",
       "        vertical-align: top;\n",
       "    }\n",
       "\n",
       "    .dataframe thead th {\n",
       "        text-align: right;\n",
       "    }\n",
       "</style>\n",
       "<table border=\"1\" class=\"dataframe\">\n",
       "  <thead>\n",
       "    <tr style=\"text-align: right;\">\n",
       "      <th></th>\n",
       "      <th>importance</th>\n",
       "    </tr>\n",
       "  </thead>\n",
       "  <tbody>\n",
       "    <tr>\n",
       "      <th>市区町村コード</th>\n",
       "      <td>49340</td>\n",
       "    </tr>\n",
       "    <tr>\n",
       "      <th>建築年</th>\n",
       "      <td>37776</td>\n",
       "    </tr>\n",
       "    <tr>\n",
       "      <th>取引年</th>\n",
       "      <td>37069</td>\n",
       "    </tr>\n",
       "    <tr>\n",
       "      <th>最寄駅：距離（分）</th>\n",
       "      <td>34274</td>\n",
       "    </tr>\n",
       "    <tr>\n",
       "      <th>建築経過年数</th>\n",
       "      <td>29875</td>\n",
       "    </tr>\n",
       "    <tr>\n",
       "      <th>面積（㎡）</th>\n",
       "      <td>28461</td>\n",
       "    </tr>\n",
       "    <tr>\n",
       "      <th>class_都市計画</th>\n",
       "      <td>21274</td>\n",
       "    </tr>\n",
       "    <tr>\n",
       "      <th>class_間取り</th>\n",
       "      <td>16257</td>\n",
       "    </tr>\n",
       "    <tr>\n",
       "      <th>class_改装</th>\n",
       "      <td>11674</td>\n",
       "    </tr>\n",
       "    <tr>\n",
       "      <th>容積率（％）</th>\n",
       "      <td>8510</td>\n",
       "    </tr>\n",
       "    <tr>\n",
       "      <th>取引月</th>\n",
       "      <td>7780</td>\n",
       "    </tr>\n",
       "    <tr>\n",
       "      <th>class_今後の利用目的</th>\n",
       "      <td>2916</td>\n",
       "    </tr>\n",
       "    <tr>\n",
       "      <th>取引年代</th>\n",
       "      <td>2186</td>\n",
       "    </tr>\n",
       "    <tr>\n",
       "      <th>class_建物の構造</th>\n",
       "      <td>2168</td>\n",
       "    </tr>\n",
       "    <tr>\n",
       "      <th>建ぺい率（％）</th>\n",
       "      <td>1959</td>\n",
       "    </tr>\n",
       "    <tr>\n",
       "      <th>is_東京都</th>\n",
       "      <td>1936</td>\n",
       "    </tr>\n",
       "    <tr>\n",
       "      <th>is_神奈川県</th>\n",
       "      <td>1166</td>\n",
       "    </tr>\n",
       "    <tr>\n",
       "      <th>class_取引の事情等</th>\n",
       "      <td>849</td>\n",
       "    </tr>\n",
       "    <tr>\n",
       "      <th>class_用途</th>\n",
       "      <td>583</td>\n",
       "    </tr>\n",
       "    <tr>\n",
       "      <th>is_PlusS</th>\n",
       "      <td>572</td>\n",
       "    </tr>\n",
       "    <tr>\n",
       "      <th>is_15m2</th>\n",
       "      <td>67</td>\n",
       "    </tr>\n",
       "    <tr>\n",
       "      <th>is_PlusK</th>\n",
       "      <td>0</td>\n",
       "    </tr>\n",
       "  </tbody>\n",
       "</table>\n",
       "</div>"
      ],
      "text/plain": [
       "               importance\n",
       "市区町村コード             49340\n",
       "建築年                 37776\n",
       "取引年                 37069\n",
       "最寄駅：距離（分）           34274\n",
       "建築経過年数              29875\n",
       "面積（㎡）               28461\n",
       "class_都市計画          21274\n",
       "class_間取り           16257\n",
       "class_改装            11674\n",
       "容積率（％）               8510\n",
       "取引月                  7780\n",
       "class_今後の利用目的        2916\n",
       "取引年代                 2186\n",
       "class_建物の構造          2168\n",
       "建ぺい率（％）              1959\n",
       "is_東京都               1936\n",
       "is_神奈川県              1166\n",
       "class_取引の事情等          849\n",
       "class_用途              583\n",
       "is_PlusS              572\n",
       "is_15m2                67\n",
       "is_PlusK                0"
      ]
     },
     "execution_count": 39,
     "metadata": {},
     "output_type": "execute_result"
    }
   ],
   "source": [
    "importance = pd.DataFrame(\n",
    "\tmodel.feature_importance(importance_type='split'),\n",
    "\tindex=X_train.columns,\n",
    "\tcolumns=['importance']).sort_values('importance', ascending=False)\n",
    "\n",
    "importance"
   ]
  },
  {
   "cell_type": "code",
   "execution_count": 40,
   "metadata": {},
   "outputs": [],
   "source": [
    "# sys.exit()"
   ]
  },
  {
   "cell_type": "code",
   "execution_count": 41,
   "metadata": {
    "scrolled": false
   },
   "outputs": [],
   "source": [
    "# from sklearn.metrics import mean_absolute_error\n",
    "# from sklearn.model_selection import KFold\n",
    "\n",
    "\n",
    "# val_y_train = train_for_model['取引価格（総額）_log']\n",
    "# val_X_train = train_for_model.drop('取引価格（総額）_log', axis=1)\n",
    "\n",
    "# scores = []\n",
    "\n",
    "# kf = KFold(n_splits = 4, shuffle=True, random_state=71)\n",
    "\n",
    "# for tr_idx, va_idx in kf.split(val_X_train):\n",
    "#     tr_x, va_x = val_X_train.iloc[tr_idx], val_X_train.iloc[va_idx]\n",
    "#     tr_y, va_y = val_y_train.iloc[tr_idx], val_y_train.iloc[va_idx]\n",
    "    \n",
    "#     lgb_train = lgb.Dataset(tr_x,tr_y,categorical_feature=categorical_features)\n",
    "#     lgb_eval  = lgb.Dataset(va_x,va_y,reference=lgb_train,categorical_feature=categorical_features)\n",
    "    \n",
    "#     # モデルの学習\n",
    "#     model = lgb.train(\n",
    "#         params, \n",
    "#         lgb_train, \n",
    "#         valid_sets=[lgb_train,lgb_eval],\n",
    "#         num_boost_round=10000,\n",
    "#         callbacks=[lgb.early_stopping(stopping_rounds=10, \n",
    "#                                 verbose=True), # early_stopping用コールバック関数\n",
    "#                             lgb.log_evaluation(100)]\n",
    "#     )\n",
    "    \n",
    "#     ev_y_pred = model.predict(va_x)\n",
    "    \n",
    "#     score = mean_absolute_error(va_y, ev_y_pred)\n",
    "#     scores.append(score)\n",
    "\n",
    "# print(np.mean(scores))"
   ]
  },
  {
   "cell_type": "code",
   "execution_count": 42,
   "metadata": {
    "execution": {
     "iopub.execute_input": "2023-08-29T06:42:06.453251Z",
     "iopub.status.busy": "2023-08-29T06:42:06.452886Z",
     "iopub.status.idle": "2023-08-29T07:13:37.396331Z",
     "shell.execute_reply": "2023-08-29T07:13:37.394831Z",
     "shell.execute_reply.started": "2023-08-29T06:42:06.453224Z"
    }
   },
   "outputs": [
    {
     "name": "stdout",
     "output_type": "stream",
     "text": [
      "2023-10-13 08:54:29.110370\n"
     ]
    },
    {
     "name": "stderr",
     "output_type": "stream",
     "text": [
      "C:\\Users\\s-heya\\Anaconda3\\lib\\site-packages\\lightgbm\\engine.py:674: UserWarning: Found 'num_iterations' in params. Will use it instead of 'num_boost_round' argument\n",
      "  _log_warning(f\"Found '{alias}' in params. Will use it instead of 'num_boost_round' argument\")\n"
     ]
    },
    {
     "name": "stdout",
     "output_type": "stream",
     "text": [
      "Training until validation scores don't improve for 10 rounds\n",
      "Early stopping, best iteration is:\n",
      "[5956]\tcv_agg's valid l1: 0.0860081 + 0.000415986\n",
      "2023-10-13 09:07:17.883558\n",
      "768.7732886\n"
     ]
    }
   ],
   "source": [
    "from sklearn.model_selection import KFold \n",
    "\n",
    "time_sta = time.perf_counter()\n",
    "\n",
    "kf = KFold(n_splits = 4, shuffle=True, random_state=0)\n",
    "\n",
    "dcv = lgb.Dataset(X_train, label=y_train)  # クロスバリデーション用\n",
    "verbose_eval = 0  # この数字を1にすると学習時のスコア推移がコマンドライン表示される\n",
    "\n",
    "# early_stoppingを指定してLightGBMをクロスバリデーション\n",
    "print(datetime.datetime.now())\n",
    "verbose_eval = 0\n",
    "cv_result = lgb.cv(params, dcv,\n",
    "                num_boost_round=10000,  # 最大学習サイクル数。early_stopping使用時は大きな値を入力\n",
    "                folds=kf,\n",
    "                callbacks=[lgb.early_stopping(stopping_rounds=10, \n",
    "                                verbose=True), # early_stopping用コールバック関数\n",
    "                           lgb.log_evaluation(verbose_eval)] # コマンドライン出力用コールバック関数\n",
    "                )\n",
    "print(datetime.datetime.now())\n",
    "\n",
    "time_end = time.perf_counter()\n",
    "print(time_end- time_sta)"
   ]
  },
  {
   "cell_type": "code",
   "execution_count": 43,
   "metadata": {},
   "outputs": [
    {
     "ename": "KeyError",
     "evalue": "'l1-mean'",
     "output_type": "error",
     "traceback": [
      "\u001b[1;31m---------------------------------------------------------------------------\u001b[0m",
      "\u001b[1;31mKeyError\u001b[0m                                  Traceback (most recent call last)",
      "Cell \u001b[1;32mIn[43], line 1\u001b[0m\n\u001b[1;32m----> 1\u001b[0m \u001b[38;5;28mprint\u001b[39m(\u001b[38;5;124m'\u001b[39m\u001b[38;5;124mMSE mean=\u001b[39m\u001b[38;5;132;01m{}\u001b[39;00m\u001b[38;5;124m'\u001b[39m\u001b[38;5;241m.\u001b[39mformat(\u001b[43mcv_result\u001b[49m\u001b[43m[\u001b[49m\u001b[38;5;124;43m'\u001b[39;49m\u001b[38;5;124;43ml1-mean\u001b[39;49m\u001b[38;5;124;43m'\u001b[39;49m\u001b[43m]\u001b[49m[\u001b[38;5;241m-\u001b[39m\u001b[38;5;241m1\u001b[39m]))\n\u001b[0;32m      2\u001b[0m \u001b[38;5;28mprint\u001b[39m(cv_result)\n",
      "\u001b[1;31mKeyError\u001b[0m: 'l1-mean'"
     ]
    }
   ],
   "source": [
    "print('MSE mean={}'.format(cv_result['l1-mean'][-1]))\n",
    "print(cv_result)"
   ]
  },
  {
   "cell_type": "code",
   "execution_count": null,
   "metadata": {},
   "outputs": [],
   "source": [
    "import shap\n",
    "\n",
    "exp = shap.TreeExplainer(model=model, feature_perturbation='tree_path_dependent')"
   ]
  },
  {
   "cell_type": "code",
   "execution_count": null,
   "metadata": {},
   "outputs": [],
   "source": [
    "\n",
    "print(datetime.datetime.now())\n",
    "time_sta = time.perf_counter()\n",
    "\n",
    "shap_values = exp(X_valid.head(5))\n",
    "\n",
    "time_end = time.perf_counter()\n",
    "print(datetime.datetime.now())\n",
    "\n",
    "print(time_end- time_sta)"
   ]
  },
  {
   "cell_type": "code",
   "execution_count": null,
   "metadata": {},
   "outputs": [],
   "source": [
    "\n",
    "shap.plots.bar(shap_values=shap_values, max_display=16)"
   ]
  },
  {
   "cell_type": "code",
   "execution_count": null,
   "metadata": {},
   "outputs": [],
   "source": [
    "\n",
    "import numpy as np\n",
    "import matplotlib.pyplot as plt\n",
    "bins = np.linspace(-2, 2, 50)\n",
    "\n",
    "df = X_valid_base.copy()\n",
    "df['差'] = df['取引価格（総額）_log']-df['pred_取引価格（総額）_log']\n",
    "\n",
    "\n",
    "plt.hist(df['差'], bins, alpha = 0.5, label='1')\n",
    "\n",
    "plt.legend(loc='upper left')\n",
    "\n",
    "plt.show()\n",
    "\n",
    "# --\n",
    "scatter_plt = plt.figure()\n",
    "\n",
    "ax = scatter_plt.add_subplot(1,1,1)\n",
    "ax.scatter(df['pred_取引価格（総額）_log'],df['取引価格（総額）_log'])\n",
    "\n",
    "ax.set_xlabel('予測値')\n",
    "ax.set_ylabel('実測値')\n",
    "\n",
    "ax.set_xlim(4, 10)\n",
    "ax.set_ylim(4, 10)\n",
    "\n",
    "plt.rcParams[\"figure.figsize\"] = [10,5]  \n",
    "ax.grid(which = \"major\", axis = \"x\", color = \"blue\", alpha = 0.8,\n",
    "        linestyle = \"--\", linewidth = 1)\n",
    "ax.grid(which = \"major\", axis = \"y\", color = \"green\", alpha = 0.8,\n",
    "        linestyle = \"--\", linewidth = 1)\n",
    "\n",
    "scatter_plt.show()\n",
    "\n",
    "\n",
    "print(df['差'].describe())"
   ]
  },
  {
   "cell_type": "code",
   "execution_count": null,
   "metadata": {},
   "outputs": [],
   "source": [
    "scatter_plt = plt.figure()\n",
    "plt.rcParams[\"figure.figsize\"] = [10,5]  \n",
    "ax = scatter_plt.add_subplot(1,1,1)\n",
    "ax.scatter(y_valid, y_valid-X_valid_base['pred_取引価格（総額）_log'])\n",
    "\n",
    "ax.set_xlabel('実績値')\n",
    "ax.set_ylabel('残差')\n",
    "\n",
    "# ax.set_xlim(0, 10)\n",
    "# ax.set_ylim(0, 10)\n",
    "\n",
    "ax.grid(which = \"major\", axis = \"x\", color = \"blue\", alpha = 0.8,\n",
    "        linestyle = \"--\", linewidth = 1)\n",
    "ax.grid(which = \"major\", axis = \"y\", color = \"green\", alpha = 0.8,\n",
    "        linestyle = \"--\", linewidth = 1)\n",
    "\n"
   ]
  },
  {
   "cell_type": "code",
   "execution_count": null,
   "metadata": {},
   "outputs": [],
   "source": [
    "scatter_plt = plt.figure()\n",
    "plt.rcParams[\"figure.figsize\"] = [10,5]  \n",
    "ax = scatter_plt.add_subplot(1,1,1)\n",
    "ax.scatter(X_valid_base['pred_取引価格（総額）_log'], y_valid-X_valid_base['pred_取引価格（総額）_log'])\n",
    "\n",
    "ax.set_xlabel('予測値')\n",
    "ax.set_ylabel('残差')\n",
    "\n",
    "ax.set_xlim(5, 9)\n",
    "# ax.set_ylim(0, 10)\n",
    "\n",
    "ax.grid(which = \"major\", axis = \"x\", color = \"blue\", alpha = 0.8,\n",
    "        linestyle = \"--\", linewidth = 1)\n",
    "ax.grid(which = \"major\", axis = \"y\", color = \"green\", alpha = 0.8,\n",
    "        linestyle = \"--\", linewidth = 1)\n",
    "\n"
   ]
  },
  {
   "cell_type": "code",
   "execution_count": null,
   "metadata": {},
   "outputs": [],
   "source": [
    "X_valid_base.columns"
   ]
  },
  {
   "cell_type": "markdown",
   "metadata": {},
   "source": [
    "# パラメーターチューニング"
   ]
  },
  {
   "cell_type": "code",
   "execution_count": null,
   "metadata": {},
   "outputs": [],
   "source": [
    "model.params"
   ]
  },
  {
   "cell_type": "code",
   "execution_count": null,
   "metadata": {
    "execution": {
     "iopub.execute_input": "2023-08-29T00:55:52.084405Z",
     "iopub.status.busy": "2023-08-29T00:55:52.083826Z",
     "iopub.status.idle": "2023-08-29T06:02:24.601204Z",
     "shell.execute_reply": "2023-08-29T06:02:24.599829Z",
     "shell.execute_reply.started": "2023-08-29T00:55:52.084375Z"
    },
    "jupyter": {
     "outputs_hidden": true
    },
    "scrolled": true
   },
   "outputs": [],
   "source": [
    "import optuna.integration.lightgbm as lgb\n",
    "\n",
    "params = {\n",
    "    'objective': 'regression_l1',  # 最小化させるべき損失関数\n",
    "    'metric': 'mae',  # 学習時に使用する評価指標(early_stoppingの評価指標にも同じ値が使用される)\n",
    "    'random_state': 0,  # 乱数シード\n",
    "    'boosting_type': 'gbdt',  # boosting_type\n",
    "    'n_estimators': 10000,  # 最大学習サイクル数。early_stopping使用時は大きな値を入力\n",
    "    'verbose': -1,  # これを指定しないと`No further splits with positive gain, best gain: -inf`というWarningが表示される\n",
    "    'n_jobs':16,\n",
    "    'early_stopping_round': 10,  # ここでearly_stoppingを指定\n",
    "    'force_col_wise':'true',\n",
    "    'max_depth':7\n",
    "}\n",
    "\n",
    "lgb_train = lgb.Dataset(X_train,y_train,categorical_feature=categorical_features)\n",
    "lgb_eval  = lgb.Dataset(X_valid,y_valid,reference=lgb_train,categorical_feature=categorical_features)\n",
    "\n",
    "# モデルの学習\n",
    "best_params, tuning_history = dict(), list()\n",
    "model = lgb.train(params, lgb_train, valid_sets=[lgb_train,lgb_eval],verbose_eval=0)"
   ]
  },
  {
   "cell_type": "code",
   "execution_count": null,
   "metadata": {
    "execution": {
     "iopub.execute_input": "2023-08-28T12:50:23.848753Z",
     "iopub.status.busy": "2023-08-28T12:50:23.848325Z",
     "iopub.status.idle": "2023-08-28T14:22:43.590964Z",
     "shell.execute_reply": "2023-08-28T14:22:43.589833Z",
     "shell.execute_reply.started": "2023-08-28T12:50:23.848718Z"
    },
    "scrolled": false
   },
   "outputs": [],
   "source": [
    "# import optuna\n",
    "# import time\n",
    "# start = time.time()\n",
    "\n",
    "# fit_params = {\n",
    "#     'eval_set': [(X_valid, y_valid)]  # early_stopping用のデータeval_setを渡す\n",
    "#     }\n",
    "\n",
    "# # ベイズ最適化時の評価指標算出メソッド\n",
    "# def bayes_objective(trial):\n",
    "#     params = {\n",
    "#         'objective': 'regression_l1',  # 最小化させるべき損失関数\n",
    "#         'metric': 'mae',  # 学習時に使用する評価指標(early_stoppingの評価指標にも同じ値が使用される)\n",
    "#         'random_state': 0,  # 乱数シード\n",
    "#         'boosting_type': 'gbdt',  # boosting_type\n",
    "#         'n_estimators': 10000,  # 最大学習サイクル数。early_stopping使用時は大きな値を入力\n",
    "#         'verbose': -1,  # これを指定しないと`No further splits with positive gain, best gain: -inf`というWarningが表示される\n",
    "#         'early_stopping_round': 10,  # ここでearly_stoppingを指定\n",
    "#         'force_col_wise':'true',\n",
    "#         'n_jobs':16,\n",
    "#         'max_depth':trial.suggest_int('max_depth', 2, 30)\n",
    "#     }\n",
    "    \n",
    "#     lgb_train = lgb.Dataset(X_train,y_train,categorical_feature=categorical_features)\n",
    "#     lgb_eval  = lgb.Dataset(X_valid,y_valid,reference=lgb_train,categorical_feature=categorical_features)\n",
    "    \n",
    "#     model = lgb.train(params, lgb_train, valid_sets=[lgb_train,lgb_eval],verbose_eval=0)\n",
    "    \n",
    "#     va_y_pred = model.predict(X_valid)\n",
    "    \n",
    "#     score = mean_absolute_error(y_valid, va_y_pred)\n",
    "    \n",
    "#     print(f'経過時間{time.time() - start}秒')\n",
    "\n",
    "#     return score\n",
    "\n",
    "# # ベイズ最適化を実行\n",
    "# study = optuna.create_study(direction='maximize',\n",
    "#                             sampler=optuna.samplers.TPESampler(seed=0))\n",
    "# study.optimize(bayes_objective, n_trials=40)\n",
    "\n",
    "# # 最適パラメータの表示と保持\n",
    "# best_params = study.best_trial.params\n",
    "# best_score = study.best_trial.value\n",
    "# print(f'最適パラメータ {best_params}\\nスコア {best_score}')\n",
    "# print(f'所要時間{time.time() - start}秒')"
   ]
  },
  {
   "cell_type": "markdown",
   "metadata": {},
   "source": [
    "# 以降は作業スペース"
   ]
  },
  {
   "cell_type": "code",
   "execution_count": null,
   "metadata": {},
   "outputs": [],
   "source": [
    "sys.exit()"
   ]
  },
  {
   "cell_type": "code",
   "execution_count": null,
   "metadata": {},
   "outputs": [],
   "source": [
    "df = X_valid_base.copy()\n",
    "df['差'] = y_valid-df['pred_取引価格（総額）_log']\n"
   ]
  },
  {
   "cell_type": "code",
   "execution_count": null,
   "metadata": {},
   "outputs": [],
   "source": [
    "len(df[(df['差'] <-0.17)])"
   ]
  },
  {
   "cell_type": "code",
   "execution_count": null,
   "metadata": {},
   "outputs": [],
   "source": [
    "len(df[(df['差'] >0.17)])"
   ]
  },
  {
   "cell_type": "code",
   "execution_count": null,
   "metadata": {},
   "outputs": [],
   "source": []
  }
 ],
 "metadata": {
  "kernelspec": {
   "display_name": "Python 3 (ipykernel)",
   "language": "python",
   "name": "python3"
  },
  "language_info": {
   "codemirror_mode": {
    "name": "ipython",
    "version": 3
   },
   "file_extension": ".py",
   "mimetype": "text/x-python",
   "name": "python",
   "nbconvert_exporter": "python",
   "pygments_lexer": "ipython3",
   "version": "3.8.5"
  }
 },
 "nbformat": 4,
 "nbformat_minor": 4
}
